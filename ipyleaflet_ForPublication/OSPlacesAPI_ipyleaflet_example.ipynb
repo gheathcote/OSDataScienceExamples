{
 "metadata": {
  "language_info": {
   "codemirror_mode": {
    "name": "ipython",
    "version": 3
   },
   "file_extension": ".py",
   "mimetype": "text/x-python",
   "name": "python",
   "nbconvert_exporter": "python",
   "pygments_lexer": "ipython3",
   "version": "3.9.0"
  },
  "orig_nbformat": 4,
  "kernelspec": {
   "name": "python3",
   "display_name": "Python 3.9.0 64-bit"
  },
  "interpreter": {
   "hash": "ac59ebe37160ed0dfa835113d9b8498d9f09ceb179beaac4002f036b9467c963"
  }
 },
 "nbformat": 4,
 "nbformat_minor": 2,
 "cells": [
  {
   "cell_type": "markdown",
   "source": [
    "## Ordnance Survey Data Hub Tutorials - Example Applications\r\n",
    "\r\n",
    "# Using the OS Places API with ipyleaflet\r\n",
    "\r\n",
    "This is a simple Python/Jupyter Notebook application, demonstrating how the OS Places API can be used to populate selected \r\n",
    "point features within an interactive ipyleaflet (https://ipyleaflet.readthedocs.io/en/latest/) map.  Aside from using the OS Places API itself, the application also makes use of the OS Maps API, as a source of contextual background mapping. \r\n",
    "\r\n",
    "This example queries addresses that fall within a 100m radius of a specified point in the centre of Abingdon-on-Thames.  The OS Places API is able to return two distinct datasets, 'DPA' data, derived from Royal Mail's delivery point database, and 'LPI' addresses, which are sourced from local authorities.  Either one of these can be specified in the request URL ('DPA' is the default), or both can be returned together, which is what we'll demonstrate in this example.  Thus, we'll be treating each dataset type independently and representing each within their own layer.\r\n",
    "\r\n",
    "ipyleaflet is able to support GeoJSON, so one option for approaching this would be to convert the returned JSON data into GeoJSON and use it directly.  Unfortunately, we've not found a way of styling the GeoJSON marker symbols...it just uses the default Leaflet blue map markers.  As this demonstration requires us two use two separate layers, that doesn't really work if the markers all look the same.  As such, we've chosen to ignore the GeoJSON layer type for this demonstation and use the configurable AwesomeIcon layers instead.\r\n",
    "\r\n",
    "The OS Places API, one of the many services available from the OS Data Hub, is an address look-up service based upon Ordnance Survey's AddressBase Premium product.  It's available on the Premium Plan and Public Sector Plan."
   ],
   "metadata": {}
  },
  {
   "cell_type": "code",
   "execution_count": 1,
   "source": [
    "from datetime import datetime\r\n",
    "from ipyleaflet import Map, WidgetControl, AwesomeIcon, Marker, MarkerCluster\r\n",
    "from urllib.parse import unquote, urlencode\r\n",
    "from ipywidgets import Image\r\n",
    "import requests\r\n",
    "import IPython"
   ],
   "outputs": [],
   "metadata": {}
  },
  {
   "cell_type": "markdown",
   "source": [
    "Use of the OS APIs requires a service key. Sign up for yours at https://osdatahub.os.uk/ and enter it below."
   ],
   "metadata": {}
  },
  {
   "cell_type": "code",
   "execution_count": 2,
   "source": [
    "# OS Data Hub project API key (key from guy.heathcote@os.uk)\r\n",
    "key = 'YOUR API KEY HERE'"
   ],
   "outputs": [],
   "metadata": {}
  },
  {
   "cell_type": "markdown",
   "source": [
    "The following cells set up a basic ipyleaflet map object, configured to use the OS Maps API. It will be initially centred on Abingdon town centre, with a zoom level of 18. It will use the 'Road' style, which is one of the default styles offered by this service. This style shows building divisions very clearly, which is potentially of relevance when also working with address data."
   ],
   "metadata": {}
  },
  {
   "cell_type": "code",
   "execution_count": 3,
   "source": [
    "# Function to create ipyleaflet tile layers\r\n",
    "def createOSMapsTileLayer(layertype):\r\n",
    "\r\n",
    "    params = urlencode({'key': key,\r\n",
    "                        'service': 'WMTS',\r\n",
    "                        'request': 'GetTile',\r\n",
    "                        'version': '2.0.0',\r\n",
    "                        'height': 256,\r\n",
    "                        'width': 256,\r\n",
    "                        'outputFormat': 'image/png',\r\n",
    "                        'style': 'default',\r\n",
    "                        'layer': layertype,\r\n",
    "                        'tileMatrixSet': 'EPSG:3857',\r\n",
    "                        'tileMatrix': '{z}',\r\n",
    "                        'tileRow': '{y}',\r\n",
    "                        'tileCol': '{x}'})\r\n",
    "\r\n",
    "    # OS Data Hub base path - https://api.os.uk\r\n",
    "    # OS Maps API WMTS end point path - /maps/raster/v1/wmts?\r\n",
    "    url = unquote(f'https://api.os.uk/maps/raster/v1/wmts?{params}')\r\n",
    "\r\n",
    "    tileLayer = {'url': url,\r\n",
    "               'min_zoom': 7,\r\n",
    "               'max_zoom': 20,\r\n",
    "               'attribution': f'Contains OS data &copy; Crown copyright and database rights {datetime.now().year}'}\r\n",
    "\r\n",
    "    return tileLayer"
   ],
   "outputs": [],
   "metadata": {}
  },
  {
   "cell_type": "code",
   "execution_count": 4,
   "source": [
    "# Create custom ipyleaflet TileLayer for the OS Maps API WMTS resource\r\n",
    "os_maps_api_road = createOSMapsTileLayer('Road_3857')\r\n"
   ],
   "outputs": [],
   "metadata": {}
  },
  {
   "cell_type": "code",
   "execution_count": 5,
   "source": [
    "# Create ipyleaflet Map\r\n",
    "centreOfMap = [51.671251 , -1.2829059]  # Abingdon-upon-Thames\r\n",
    "m = Map(basemap=os_maps_api_road,\r\n",
    "        center=centreOfMap,\r\n",
    "        zoom=18)  # Zoom level 18"
   ],
   "outputs": [],
   "metadata": {}
  },
  {
   "cell_type": "code",
   "execution_count": 6,
   "source": [
    "# Add an image overlay, placing the OS logo in the bottom left corner.\r\n",
    "oslogo_url = 'https://raw.githubusercontent.com/OrdnanceSurvey/os-api-branding/master/img/os-logo-maps.png'\r\n",
    "oslogo_img = IPython.display.Image(oslogo_url, width = 300)\r\n",
    "oslogoWidget = Image(value=oslogo_img.data, format='png', width=100, height=30)\r\n",
    "widgetControl = WidgetControl(widget=oslogoWidget, position='bottomleft')\r\n",
    "m.add_control(widgetControl)\r\n"
   ],
   "outputs": [],
   "metadata": {}
  },
  {
   "cell_type": "markdown",
   "source": [
    "This next function takes a list of feature data and converts them to icons that will then be added to an ipyleaflet layer. The icons, themselves, use the Font-Awesome library, which can be referenced at https://fontawesome.com/v4.7.0/icons\n",
    "\n",
    "The 'locOffset' parameter has been introduced, here, so that we can still meaningfully visualise DPA and LPI point when they're otherwise co-incident."
   ],
   "metadata": {}
  },
  {
   "cell_type": "code",
   "execution_count": 7,
   "source": [
    "def createPlacesAPIAweIconLayer(simplifiedlist, iname, mcolour, icolour, locOffset):\r\n",
    "    \r\n",
    "    markers = []\r\n",
    "\r\n",
    "    try:\r\n",
    "        for d in simplifiedlist:\r\n",
    "        \r\n",
    "            thisIcon = AwesomeIcon(name=iname, marker_color=mcolour, icon_color=icolour,spin=False)\r\n",
    "            thisMarker = Marker(icon=thisIcon, location=(d[\"LAT\"]-locOffset,d[\"LNG\"]-locOffset), opacity=1, visible=True)\r\n",
    "            markers.append(thisMarker)\r\n",
    "    except:\r\n",
    "        raise Exception(\"Error encountered whilst creating marker objects.  Check that the received JSON data is correct!\")\r\n",
    "\r\n",
    "    # Finally, add the results to the map as a complete marker cluster\r\n",
    "    m.add_layer(MarkerCluster(markers=tuple(markers)))"
   ],
   "outputs": [],
   "metadata": {}
  },
  {
   "cell_type": "markdown",
   "source": [
    "Build our request URL and request JSON data from the OS Places API.\n",
    "\n",
    "The OS Places API offers a lot of options in regards to how the address data is queried.  Area based queries can use a bounding box, polygon extent or radius, with the latter being used by this example.  Alternatively, free text, postcode, UPRN and 'nearest' queries can also be undertaken.  See https://osdatahub.os.uk/docs/places/technicalSpecification for details."
   ],
   "metadata": {}
  },
  {
   "cell_type": "code",
   "execution_count": 8,
   "source": [
    "\r\n",
    "\r\n",
    "base_osplaces_url = 'https://api.os.uk/search/places/v1/'\r\n",
    "osplaces_path = 'radius?point=449687,197185&radius=100'\r\n",
    "full_osplaces_url = base_osplaces_url + osplaces_path + '&format=json&srs=BNG&dataset=DPA,LPI&output_srs=WGS84&key=' + key\r\n",
    "\r\n",
    "try:\r\n",
    "    response = requests.get(full_osplaces_url)\r\n",
    "except:\r\n",
    "    raise Exception(\"Unable to query and process Places API.\")\r\n",
    "\r\n",
    "try:\r\n",
    "    data = response.json()\r\n",
    "except:\r\n",
    "    raise Exception(\"Unable to convert the returned payload to JSON.\")\r\n",
    "\r\n",
    "\r\n"
   ],
   "outputs": [],
   "metadata": {
    "tags": []
   }
  },
  {
   "cell_type": "markdown",
   "source": [
    "Now simplify the returned address data into a simple feature list, then convert that into icon layers that can be displayed on the map."
   ],
   "metadata": {}
  },
  {
   "cell_type": "code",
   "execution_count": null,
   "source": [],
   "outputs": [],
   "metadata": {}
  },
  {
   "cell_type": "code",
   "execution_count": 9,
   "source": [
    "resultslist = data['results'].copy()  # get just the list of results\r\n",
    "simplifiedlistDPA, simplifiedlistLPI = [],[] ## simplified lists for DPA and LPI records\r\n",
    "\r\n",
    "for i in range(len(resultslist)):    # For the Places API, each result is a one-entry dictionary, with a further dictionary nested within.\r\n",
    "    outerDict = resultslist[i]\r\n",
    "\r\n",
    "    if \"DPA\" in outerDict:      # found a DPA record\r\n",
    "        simplifiedlistDPA.append(outerDict[\"DPA\"])\r\n",
    "    elif \"LPI\" in outerDict:    # found an LPI record\r\n",
    "        simplifiedlistLPI.append(outerDict[\"LPI\"])\r\n",
    "    else:\r\n",
    "        raise Exception(\"Error:  Unknown dataset found.  Only DPA and LPI are supported.\")\r\n",
    "\r\n",
    "# Now create DPA and/or LPI map layers\r\n",
    "if simplifiedlistDPA:\r\n",
    "    createPlacesAPIAweIconLayer(simplifiedlistDPA, 'map-marker', 'green', 'white', 0.00001)\r\n",
    "\r\n",
    "if simplifiedlistLPI:\r\n",
    "    createPlacesAPIAweIconLayer(simplifiedlistLPI, 'institution', 'red', 'black', 0)"
   ],
   "outputs": [],
   "metadata": {}
  },
  {
   "cell_type": "code",
   "execution_count": 10,
   "source": [
    "\r\n",
    "m"
   ],
   "outputs": [
    {
     "output_type": "display_data",
     "data": {
      "application/vnd.jupyter.widget-view+json": {
       "version_major": 2,
       "version_minor": 0,
       "model_id": "05374aac85294df1ba90355b818fba0c"
      },
      "text/plain": [
       "Map(center=[51.671251, -1.2829059], controls=(ZoomControl(options=['position', 'zoom_in_text', 'zoom_in_title'…"
      ]
     },
     "metadata": {}
    }
   ],
   "metadata": {}
  }
 ]
}