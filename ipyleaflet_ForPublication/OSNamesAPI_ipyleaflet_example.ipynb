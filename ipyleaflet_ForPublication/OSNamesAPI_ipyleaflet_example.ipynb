{
 "metadata": {
  "language_info": {
   "codemirror_mode": {
    "name": "ipython",
    "version": 3
   },
   "file_extension": ".py",
   "mimetype": "text/x-python",
   "name": "python",
   "nbconvert_exporter": "python",
   "pygments_lexer": "ipython3",
   "version": "3.9.0"
  },
  "orig_nbformat": 4,
  "kernelspec": {
   "name": "python3",
   "display_name": "Python 3.9.0 64-bit"
  },
  "interpreter": {
   "hash": "ac59ebe37160ed0dfa835113d9b8498d9f09ceb179beaac4002f036b9467c963"
  }
 },
 "nbformat": 4,
 "nbformat_minor": 2,
 "cells": [
  {
   "cell_type": "markdown",
   "source": [
    "## Ordnance Survey Data Hub Tutorials - Example Applications\n",
    "\n",
    "# Using the OS Names API with ipyleaflet\n",
    "\n",
    "This is a simple Python/Jupyter Notebook application, demonstrating how the OS Names API can be used to populate selected \n",
    "point features within an interactive ipyleaflet (https://ipyleaflet.readthedocs.io/en/latest/) map.  Aside from using the OS Names API itself, the application also makes use of the OS Maps API, as a source of contextual background mapping.  In this example, we'll search for school names in Winchester, searching for primary schools within a supplied bounding box, along with the nearest secondary school.  Together, this will demonstrate the two primary query modes of this service, along with its ability to filter results.\n",
    "\n",
    "The OS Names API, one of the many services available from the OS Data Hub, is a geographic directory containing basic information about identifiable places.  This service is free to use for all registered OS Data Hub users.\n",
    "\n"
   ],
   "metadata": {}
  },
  {
   "cell_type": "code",
   "execution_count": 1,
   "source": [
    "from datetime import datetime\r\n",
    "from ipyleaflet import Map, WidgetControl, AwesomeIcon, Marker, MarkerCluster\r\n",
    "from ipywidgets import Image\r\n",
    "from urllib.parse import unquote, urlencode\r\n",
    "from pyproj import Transformer, crs\r\n",
    "import IPython\r\n",
    "import requests"
   ],
   "outputs": [],
   "metadata": {}
  },
  {
   "cell_type": "markdown",
   "source": [
    "Use of the OS APIs requires a service key.  Sign up for yours at <a>https://osdatahub.os.uk/</a> and enter it below."
   ],
   "metadata": {}
  },
  {
   "cell_type": "code",
   "execution_count": 2,
   "source": [
    "# OS Data Hub project API key\r\n",
    "key = 'YOUR API KEY HERE'"
   ],
   "outputs": [],
   "metadata": {}
  },
  {
   "cell_type": "markdown",
   "source": [
    "The following cells set up a basic ipyleaflet map object, configured to use the OS Maps API.  It will be initially centred on Winchester (UK) city centre, with a zoom level of 12.  It will use the 'Light' style, which is one of the default styles offered by this service.  This is a good choice for general background mapping. "
   ],
   "metadata": {}
  },
  {
   "cell_type": "code",
   "execution_count": 3,
   "source": [
    "# Function to create ipyleaflet tile layers\r\n",
    "def createOSMapsTileLayer(layertype):\r\n",
    "\r\n",
    "    params = urlencode({'key': key,\r\n",
    "                        'service': 'WMTS',\r\n",
    "                        'request': 'GetTile',\r\n",
    "                        'version': '2.0.0',\r\n",
    "                        'height': 256,\r\n",
    "                        'width': 256,\r\n",
    "                        'outputFormat': 'image/png',\r\n",
    "                        'style': 'default',\r\n",
    "                        'layer': layertype,\r\n",
    "                        'tileMatrixSet': 'EPSG:3857',\r\n",
    "                        'tileMatrix': '{z}',\r\n",
    "                        'tileRow': '{y}',\r\n",
    "                        'tileCol': '{x}'})\r\n",
    "\r\n",
    "    # OS Data Hub base path - https://api.os.uk\r\n",
    "    # OS Maps API WMTS end point path - /maps/raster/v1/wmts?\r\n",
    "    url = unquote(f'https://api.os.uk/maps/raster/v1/wmts?{params}')\r\n",
    "\r\n",
    "    tileLayer = {'url': url,\r\n",
    "               'min_zoom': 7,\r\n",
    "               'max_zoom': 20,\r\n",
    "               'attribution': f'Contains OS data &copy; Crown copyright and database rights {datetime.now().year}'}\r\n",
    "\r\n",
    "    return tileLayer"
   ],
   "outputs": [],
   "metadata": {}
  },
  {
   "cell_type": "code",
   "execution_count": 4,
   "source": [
    "# Create custom ipyleaflet TileLayer for the OS Maps API WMTS resource\r\n",
    "os_maps_api_light = createOSMapsTileLayer('Light_3857')"
   ],
   "outputs": [],
   "metadata": {}
  },
  {
   "cell_type": "code",
   "execution_count": 5,
   "source": [
    "# Create ipyleaflet Map\r\n",
    "centreOfMap = [51.063650 , -1.3197756]  # WGS84\r\n",
    "m = Map(basemap=os_maps_api_light,\r\n",
    "        center=centreOfMap,\r\n",
    "        zoom=12)"
   ],
   "outputs": [],
   "metadata": {}
  },
  {
   "cell_type": "code",
   "execution_count": 6,
   "source": [
    "# Add an image overlay, placing the OS logo in the bottom left corner.\r\n",
    "oslogo_url = 'https://raw.githubusercontent.com/OrdnanceSurvey/os-api-branding/master/img/os-logo-maps.png'\r\n",
    "oslogo_img = IPython.display.Image(oslogo_url, width = 300)\r\n",
    "oslogoWidget = Image(value=oslogo_img.data, format='png', width=100, height=30)\r\n",
    "widgetControl = WidgetControl(widget=oslogoWidget, position='bottomleft')\r\n",
    "m.add_control(widgetControl)\r\n"
   ],
   "outputs": [],
   "metadata": {}
  },
  {
   "cell_type": "markdown",
   "source": [
    "The OS Names API only returns British National Grid (BNG) coordinates.  For this application, we need latitude/longitude values, so the following function, using the pyproj package (https://pyproj4.github.io/pyproj/stable/), undertakes a conversion between the two."
   ],
   "metadata": {}
  },
  {
   "cell_type": "code",
   "execution_count": 7,
   "source": [
    "def convertBNGtoLatLon(eastings, northings):\r\n",
    "\r\n",
    "    # Convert a BNG coordinate pair to lat/lon\r\n",
    "    bng = crs.CRS('epsg:27700')\r\n",
    "    wgs84 = crs.CRS('epsg:4326')\r\n",
    "\r\n",
    "    transformer = Transformer.from_crs(bng, wgs84)\r\n",
    "    wgs84_point = transformer.transform(eastings, northings)\r\n",
    "\r\n",
    "    return wgs84_point\r\n"
   ],
   "outputs": [],
   "metadata": {}
  },
  {
   "cell_type": "markdown",
   "source": [
    "This function takes a list of feature data and converts them to icons that will then be added to an ipyleaflet layer and added to our map object.  The icons, themselves, use the Font-Awesome library, which can be referenced at https://fontawesome.com/v4.7.0/icons"
   ],
   "metadata": {}
  },
  {
   "cell_type": "code",
   "execution_count": 8,
   "source": [
    "def createNamesAPIAweIconLayer(simplifiedlist, iname, mcolour, icolour):\r\n",
    "    # Because it's currently hard to style point markers when returned in a GeoJSON layer, this is a simple alternative that uses Awesome Icons instead.\r\n",
    "    \r\n",
    "    mymarkers = []\r\n",
    "\r\n",
    "    for d in simplifiedlist:\r\n",
    "\r\n",
    "        # This API does not return lat/long values, so convert from BNG.\r\n",
    "        thisLoc = convertBNGtoLatLon(d[\"GEOMETRY_X\"],d[\"GEOMETRY_Y\"])\r\n",
    "\r\n",
    "        thisIcon = AwesomeIcon(name=iname, marker_color=mcolour, icon_color=icolour,spin=False)  \r\n",
    "        thisMarker = Marker(icon=thisIcon, location=(thisLoc[0],thisLoc[1]), opacity=1, visible=True)\r\n",
    "        mymarkers.append(thisMarker)\r\n",
    "\r\n",
    "    # Finally, add the results to the map as a complete marker cluster\r\n",
    "    m.add_layer(MarkerCluster(markers=tuple(mymarkers)))"
   ],
   "outputs": [],
   "metadata": {}
  },
  {
   "cell_type": "markdown",
   "source": [
    "Data returned from the OS Names API is standard JSON (i.e. not GeoJSON).  It contains more content and complexity than we really need for this specific application.  We don't really need anything from it's header, so we can disregard that.  In addition, the main body contains a hierarchy that we don't really need, so we'll use the following function to flatten it down into a simple list of dictionaries.  To better understand what's going on here, it's worth visualising the returned JSON directly.\n",
    "\n",
    "Once we've got data in this format, several options are available to us.  For example, we could easily import them into a DataFrame/GeoDataFrame, or can convert them into actual GeoJSON.  In this example, though, we can make good use of the data directly. "
   ],
   "metadata": {}
  },
  {
   "cell_type": "code",
   "execution_count": 9,
   "source": [
    "# Simplify the returned JSON data\r\n",
    "def simplifyJSONResponse(jsondata):\r\n",
    "\r\n",
    "    try:\r\n",
    "        resultslist = jsondata['results'].copy()  # get just the list of results, disregarding the header\r\n",
    "    except:\r\n",
    "        raise Exception(\"The returned JSON data does not appear to have a 'results' block.  This indicates an erroneous or null return.\")\r\n",
    "\r\n",
    "    simplifiedlist = []\r\n",
    "\r\n",
    "    for i in range(len(resultslist)):    # For the Names API, each result is a one-entry dictionary, with a further dictionary nested within.\r\n",
    "        outerDict = resultslist[i]\r\n",
    "\r\n",
    "        if \"GAZETTEER_ENTRY\" in outerDict:  # All results from the should be of type \"GAZETTEER_ENTRY\"\r\n",
    "            simplifiedlist.append(outerDict[\"GAZETTEER_ENTRY\"])\r\n",
    "        else:\r\n",
    "            raise Exception(\"Unexpected data, as only 'GAZETTEER_ENTRY' blocks are expected for this API.  Check what's being returned.\")\r\n",
    "\r\n",
    "    return simplifiedlist"
   ],
   "outputs": [],
   "metadata": {}
  },
  {
   "cell_type": "markdown",
   "source": [
    "Build the two URLs we'll need for the OS Names API queries - a 'radius' type query for primary schools and a 'nearest' search for the secondary school."
   ],
   "metadata": {}
  },
  {
   "cell_type": "code",
   "execution_count": 10,
   "source": [
    "# Get OS Names API JSON data\r\n",
    "# We're requesting the result to be returned in WGS84, as that's the only CRC supported by geojson.  It should all work out in the end.\r\n",
    "\r\n",
    "osnames_base_url = 'https://api.os.uk/search/names/v1/'  # base url for all OS Names queries\r\n",
    "\r\n",
    "primary_params = 'find?query=Winchester&fq=BBOX:444135,126565,450393,132885&maxresults=50' # additional parameters for 'find' variant\r\n",
    "secondary_params = 'nearest?point=447763,129588&radius=1000' # additional parameter for 'nearest' variant\r\n",
    "\r\n",
    "primary_filter = '&fq=LOCAL_TYPE:Primary_Education' # filters are optional, but here we just want to choose primary schools...\r\n",
    "secondary_filter = '&fq=LOCAL_TYPE:Secondary_Education' # ...or secondary schools.  See https://osdatahub.os.uk/docs/names/technicalSpecification for all options.\r\n",
    "\r\n",
    "full_primary_url = osnames_base_url + primary_params + primary_filter + '&format=json&key=' + key \r\n",
    "full_secondary_url = osnames_base_url + secondary_params + secondary_filter + '&format=json&key=' + key \r\n",
    "\r\n",
    "# Print full URLs, for reference\r\n",
    "print (full_primary_url)\r\n",
    "print (full_secondary_url)\r\n",
    "\r\n"
   ],
   "outputs": [
    {
     "output_type": "stream",
     "name": "stdout",
     "text": [
      "https://api.os.uk/search/names/v1/find?query=Winchester&fq=BBOX:444135,126565,450393,132885&maxresults=50&fq=LOCAL_TYPE:Primary_Education&format=json&key=rYQ4O27ZlRGAYUaZyMG3UuYd0Io9uZPS\n",
      "https://api.os.uk/search/names/v1/nearest?point=447763,129588&radius=1000&fq=LOCAL_TYPE:Secondary_Education&format=json&key=rYQ4O27ZlRGAYUaZyMG3UuYd0Io9uZPS\n"
     ]
    }
   ],
   "metadata": {}
  },
  {
   "cell_type": "markdown",
   "source": [
    "Undertake the two OS Names API queries, process the results and add the resulting icon layers to the map."
   ],
   "metadata": {}
  },
  {
   "cell_type": "code",
   "execution_count": 11,
   "source": [
    "try:\r\n",
    "    primary_response = requests.get(full_primary_url)\r\n",
    "    secondary_response = requests.get(full_secondary_url)\r\n",
    "except:\r\n",
    "    raise Exception(\"Unable to query and process Names API.\")\r\n",
    "\r\n",
    "# Convert results to JSON\r\n",
    "try:\r\n",
    "    primary_data = primary_response.json()\r\n",
    "    secondary_data = secondary_response.json()\r\n",
    "except:\r\n",
    "    raise Exception(\"Unable to convert the returned payload to JSON.\")\r\n",
    "\r\n",
    "# We'll create and populate simplified feature lists...\r\n",
    "simplifiedlist_primary = simplifyJSONResponse(primary_data)\r\n",
    "simplifiedlist_secondary = simplifyJSONResponse(secondary_data)\r\n",
    "\r\n",
    "# ...then use these to create new map layers\r\n",
    "if simplifiedlist_primary:\r\n",
    "    createNamesAPIAweIconLayer(simplifiedlist_primary, 'mortar-board', 'purple', 'black')\r\n",
    "\r\n",
    "if simplifiedlist_secondary:\r\n",
    "    createNamesAPIAweIconLayer(simplifiedlist_secondary, 'university', 'green', 'white')\r\n"
   ],
   "outputs": [],
   "metadata": {}
  },
  {
   "cell_type": "markdown",
   "source": [
    "Finally, display the completed interactive ipyleaflet map."
   ],
   "metadata": {}
  },
  {
   "cell_type": "code",
   "execution_count": 12,
   "source": [
    "m"
   ],
   "outputs": [
    {
     "output_type": "display_data",
     "data": {
      "application/vnd.jupyter.widget-view+json": {
       "version_major": 2,
       "version_minor": 0,
       "model_id": "823869cdfc0d44efa8d03eda57bd0dfb"
      },
      "text/plain": [
       "Map(center=[51.06365, -1.3197756], controls=(ZoomControl(options=['position', 'zoom_in_text', 'zoom_in_title',…"
      ]
     },
     "metadata": {}
    }
   ],
   "metadata": {}
  }
 ]
}