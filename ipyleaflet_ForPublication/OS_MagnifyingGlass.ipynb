{
 "metadata": {
  "language_info": {
   "codemirror_mode": {
    "name": "ipython",
    "version": 3
   },
   "file_extension": ".py",
   "mimetype": "text/x-python",
   "name": "python",
   "nbconvert_exporter": "python",
   "pygments_lexer": "ipython3",
   "version": "3.9.0"
  },
  "orig_nbformat": 4,
  "kernelspec": {
   "name": "python3",
   "display_name": "Python 3.9.0 64-bit"
  },
  "interpreter": {
   "hash": "ac59ebe37160ed0dfa835113d9b8498d9f09ceb179beaac4002f036b9467c963"
  }
 },
 "nbformat": 4,
 "nbformat_minor": 2,
 "cells": [
  {
   "cell_type": "markdown",
   "source": [
    "## Ordnance Survey Data Hub Tutorials - Example Applications\r\n",
    "\r\n",
    "# Using the OS Maps API with ipyleaflet (magnifying glass)\r\n",
    "\r\n",
    "This is a simple Python/Jupyter Notebook application, demonstrating how the OS Maps API can be used to display two styles of background mapping within an interactive ipyleaflet (https://ipyleaflet.readthedocs.io/en/latest/) map.  \r\n",
    "\r\n",
    "The OS Maps API, is one of the many services available from the OS Data Hub.  It's a service based upon the WMTS and RESTful ZXY mapping standards, that can be used, within leaflet, as a source for background contextual mapping, or as the primary feature of interest. \r\n",
    "\r\n",
    "This demo shows two of the standard OS Maps API styles being used together, via ipyleaflet's 'magnifying glass' feature."
   ],
   "metadata": {}
  },
  {
   "cell_type": "code",
   "execution_count": 1,
   "source": [
    "from datetime import datetime\r\n",
    "from ipyleaflet import Map, MagnifyingGlass, basemap_to_tiles, Marker, Icon, WidgetControl\r\n",
    "from urllib.parse import unquote, urlencode\r\n",
    "from ipywidgets import Image\r\n",
    "import IPython"
   ],
   "outputs": [],
   "metadata": {}
  },
  {
   "cell_type": "markdown",
   "source": [
    "Use of the OS APIs requires a service key. Sign up for yours at https://osdatahub.os.uk/ and enter it below."
   ],
   "metadata": {}
  },
  {
   "cell_type": "code",
   "execution_count": 2,
   "source": [
    "# OS Data Hub project API key (key from guy.heathcote@os.uk)\r\n",
    "key = 'YOUR API KEY HERE'"
   ],
   "outputs": [],
   "metadata": {}
  },
  {
   "cell_type": "markdown",
   "source": [
    "The following cells set up a basic ipyleaflet map object, configured to use the OS Maps API. It will be initially centred on central London, with a zoom level of 15."
   ],
   "metadata": {}
  },
  {
   "cell_type": "code",
   "execution_count": 3,
   "source": [
    "# Function to create ipyleaflet tile layers\r\n",
    "def createTileLayer(layertype):\r\n",
    "\r\n",
    "    params = urlencode({'key': key,\r\n",
    "                        'service': 'WMTS',\r\n",
    "                        'request': 'GetTile',\r\n",
    "                        'version': '2.0.0',\r\n",
    "                        'height': 256,\r\n",
    "                        'width': 256,\r\n",
    "                        'outputFormat': 'image/png',\r\n",
    "                        'style': 'default',\r\n",
    "                        'layer': layertype,\r\n",
    "                        'tileMatrixSet': 'EPSG:3857',\r\n",
    "                        'tileMatrix': '{z}',\r\n",
    "                        'tileRow': '{y}',\r\n",
    "                        'tileCol': '{x}'})\r\n",
    "\r\n",
    "    # OS Data Hub base path - https://api.os.uk\r\n",
    "    # OS Maps API WMTS end point path - /maps/raster/v1/wmts?\r\n",
    "    url = unquote(f'https://api.os.uk/maps/raster/v1/wmts?{params}')\r\n",
    "\r\n",
    "    tileLayer = {'url': url,\r\n",
    "               'min_zoom': 7,\r\n",
    "               'max_zoom': 20,\r\n",
    "               'attribution': f'Contains OS data &copy; Crown copyright and database rights {datetime.now().year}'}\r\n",
    "\r\n",
    "    return tileLayer"
   ],
   "outputs": [],
   "metadata": {}
  },
  {
   "cell_type": "code",
   "execution_count": 4,
   "source": [
    "# Create custom ipyleaflet TileLayers for the OS Maps API WMTS resource\r\n",
    "os_maps_api_light = createTileLayer('Light_3857')\r\n",
    "os_maps_api_road = createTileLayer('Road_3857')"
   ],
   "outputs": [],
   "metadata": {}
  },
  {
   "cell_type": "code",
   "execution_count": 5,
   "source": [
    "# Create ipyleaflet Map\r\n",
    "centreOfMap = [51.507, -0.105]  # Central London\r\n",
    "m = Map(basemap=os_maps_api_light,\r\n",
    "        center=centreOfMap,\r\n",
    "        zoom=15)  # Initial zoom level = 12"
   ],
   "outputs": [],
   "metadata": {}
  },
  {
   "cell_type": "markdown",
   "source": [
    "Create and apply the magnified layer.\n",
    "\n",
    "The ipyleaflet magnifying glass can be confirgured to work in various ways.  Here, we'll increase it's radius to 150 (default=100) and set the zoom offset to 2 (default=3).  A full list of options can be found at https://ipyleaflet.readthedocs.io/en/latest/api_reference/magnifying_glass.html."
   ],
   "metadata": {}
  },
  {
   "cell_type": "code",
   "execution_count": 6,
   "source": [
    "# Add and configure the magnified layer\r\n",
    "road_layer = basemap_to_tiles(os_maps_api_road)\r\n",
    "magnifying_glass = MagnifyingGlass(radius=150, zoom_offset=2, layers=[road_layer])\r\n",
    "\r\n",
    "m.add_layer(magnifying_glass)"
   ],
   "outputs": [],
   "metadata": {}
  },
  {
   "cell_type": "code",
   "execution_count": 7,
   "source": [
    "# Add an image overlay, placing the OS logo in the bottom left corner.\r\n",
    "oslogo_url = 'https://raw.githubusercontent.com/OrdnanceSurvey/os-api-branding/master/img/os-logo-maps.png'\r\n",
    "oslogo_img = IPython.display.Image(oslogo_url, width = 300)\r\n",
    "oslogoWidget = Image(value=oslogo_img.data, format='png', width=100, height=30)\r\n",
    "widgetControl = WidgetControl(widget=oslogoWidget, position='bottomleft')\r\n",
    "m.add_control(widgetControl)\r\n"
   ],
   "outputs": [],
   "metadata": {}
  },
  {
   "cell_type": "code",
   "execution_count": 8,
   "source": [
    "# Show the map\r\n",
    "m"
   ],
   "outputs": [
    {
     "output_type": "display_data",
     "data": {
      "application/vnd.jupyter.widget-view+json": {
       "version_major": 2,
       "version_minor": 0,
       "model_id": "9c08df9ea5b64a6aa1507b8243d4e3e6"
      },
      "text/plain": [
       "Map(center=[51.507, -0.105], controls=(ZoomControl(options=['position', 'zoom_in_text', 'zoom_in_title', 'zoom…"
      ]
     },
     "metadata": {}
    }
   ],
   "metadata": {}
  }
 ]
}