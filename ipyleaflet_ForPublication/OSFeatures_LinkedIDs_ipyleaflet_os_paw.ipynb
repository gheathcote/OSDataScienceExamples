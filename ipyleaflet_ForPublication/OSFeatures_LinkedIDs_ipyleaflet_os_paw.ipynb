{
 "metadata": {
  "language_info": {
   "codemirror_mode": {
    "name": "ipython",
    "version": 3
   },
   "file_extension": ".py",
   "mimetype": "text/x-python",
   "name": "python",
   "nbconvert_exporter": "python",
   "pygments_lexer": "ipython3",
   "version": "3.9.0"
  },
  "orig_nbformat": 4,
  "kernelspec": {
   "name": "python3",
   "display_name": "Python 3.9.0 64-bit"
  },
  "interpreter": {
   "hash": "ac59ebe37160ed0dfa835113d9b8498d9f09ceb179beaac4002f036b9467c963"
  }
 },
 "nbformat": 4,
 "nbformat_minor": 2,
 "cells": [
  {
   "cell_type": "markdown",
   "source": [
    "## Ordnance Survey Data Hub Tutorials - Example Applications\r\n",
    "\r\n",
    "# Using the OS Features API, OS Linked Identifier API and OS Places API with ipyleaflet (OS-PAW version)\r\n",
    "\r\n",
    "This is a Python/Jupyter Notebook application, demonstrating how the OS Features API, OS Linked Identifiers API and OS Places API can be made to work together within an interactive ipyleaflet (https://ipyleaflet.readthedocs.io/en/latest/) map.  The application also makes use of the OS Maps API, as a source of contextual background mapping. \r\n",
    "\r\n",
    "This example initially queries and displays Topo Area building features surrounding a specified point (in this example, the town of Glossop), using the OS Features API.  When the user then elects to click upon one of the building polygons, the application queries the OS Linked Identifiers API to find a UPRN code that relates to that building (via it's toid identifier).  If this is sucessful, that feature's address is then able to be queried from the OS Places API, which is then displayed in an ipyleaflet Popup layer.\r\n",
    "\r\n",
    "This demo also uses OS-PAW (available from PyPI), a tool that greatly simplifies working with the OS Features API, when in a Python environment.\r\n",
    "\r\n",
    "The four APIs used in this application are all available from the OS Data Hub https://osdatahub.os.uk/"
   ],
   "metadata": {}
  },
  {
   "cell_type": "code",
   "execution_count": null,
   "source": [
    "from datetime import datetime\r\n",
    "from ipyleaflet import Map, WidgetControl, GeoJSON, Popup\r\n",
    "from ipywidgets import Image, HTML\r\n",
    "from urllib.parse import unquote, urlencode\r\n",
    "from pyproj import Transformer, crs\r\n",
    "from os_paw.wfs_api import WFS_API\r\n",
    "import requests\r\n",
    "import IPython\r\n",
    "import geopandas as gpd\r\n",
    "import random\r\n",
    "import winsound  # Replace with equivalent, if using OSX or Linux\r\n",
    "import platform\r\n"
   ],
   "outputs": [],
   "metadata": {}
  },
  {
   "cell_type": "markdown",
   "source": [
    "Use of the OS APIs requires a service key. Sign up for yours at https://osdatahub.os.uk/ and enter it below."
   ],
   "metadata": {}
  },
  {
   "cell_type": "code",
   "execution_count": null,
   "source": [
    "# OS Data Hub project API key\r\n",
    "key = 'YOUR API KEY HERE'"
   ],
   "outputs": [],
   "metadata": {}
  },
  {
   "cell_type": "markdown",
   "source": [
    "Define the location and extent of the query here."
   ],
   "metadata": {}
  },
  {
   "cell_type": "code",
   "execution_count": null,
   "source": [
    "# Centre of map - define default starting location\r\n",
    "centreOfMapBNG = {\"eastings\" : 403496 , \"northings\" : 394064}  # This default location is for Glossop High Street.\r\n",
    "#centreOfMapBNG = {\"eastings\" : 654810 , \"northings\" : 293154}  # An alternative test location, for Lowestoft.\r\n",
    "\r\n",
    "# AOI dimensions (meters)\r\n",
    "aoi_dimensions = {\"width\" : 400, \"height\" : 300}"
   ],
   "outputs": [],
   "metadata": {}
  },
  {
   "cell_type": "markdown",
   "source": [
    "Calculate the area of interest, converting both that, and the centre location, to WGS84 for onward use."
   ],
   "metadata": {}
  },
  {
   "cell_type": "code",
   "execution_count": null,
   "source": [
    "# General BNG to WGS84 convertor, using pyproj\r\n",
    "def convertBNGtoLatLon(eastings, northings):\r\n",
    "\r\n",
    "    # Convert a BNG coordinate pair to lat/lon\r\n",
    "    bng = crs.CRS('epsg:27700')\r\n",
    "    wgs84 = crs.CRS('epsg:4326')\r\n",
    "\r\n",
    "    transformer = Transformer.from_crs(bng, wgs84)\r\n",
    "    wgs84_point = transformer.transform(eastings, northings)\r\n",
    "\r\n",
    "    return wgs84_point\r\n",
    "\r\n",
    "# Calculate area of interest\r\n",
    "aoi_SW_BNG = {\"eastings\" : centreOfMapBNG.get(\"eastings\") - (aoi_dimensions.get(\"width\")/2), \"northings\" : centreOfMapBNG.get(\"northings\") - (aoi_dimensions.get(\"height\")/2)}\r\n",
    "aoi_NE_BNG = {\"eastings\" : centreOfMapBNG.get(\"eastings\") + (aoi_dimensions.get(\"width\")/2), \"northings\" : centreOfMapBNG.get(\"northings\") + (aoi_dimensions.get(\"height\")/2)}\r\n",
    "\r\n",
    "# Convert to WGS84\r\n",
    "centreOfMap = convertBNGtoLatLon( centreOfMapBNG.get(\"eastings\"), centreOfMapBNG.get(\"northings\"))\r\n",
    "\r\n",
    "aoi_SW_WGS84 = convertBNGtoLatLon( aoi_SW_BNG.get(\"eastings\"), aoi_SW_BNG.get(\"northings\"))\r\n",
    "aoi_NE_WGS84 = convertBNGtoLatLon( aoi_NE_BNG.get(\"eastings\"), aoi_NE_BNG.get(\"northings\"))"
   ],
   "outputs": [],
   "metadata": {}
  },
  {
   "cell_type": "markdown",
   "source": [
    "As with most ipyleaflet projects that we're likely to be building, we'll start with creating a map object and a background layer.  For the latter, we'll use the OS Maps API."
   ],
   "metadata": {}
  },
  {
   "cell_type": "code",
   "execution_count": null,
   "source": [
    "# Function to create ipyleaflet tile layers\r\n",
    "def createOSMapsTileLayer(layertype):\r\n",
    "\r\n",
    "    params = urlencode({'key': key,\r\n",
    "                        'service': 'WMTS',\r\n",
    "                        'request': 'GetTile',\r\n",
    "                        'version': '2.0.0',\r\n",
    "                        'height': 256,\r\n",
    "                        'width': 256,\r\n",
    "                        'outputFormat': 'image/png',\r\n",
    "                        'style': 'default',\r\n",
    "                        'layer': layertype,\r\n",
    "                        'tileMatrixSet': 'EPSG:3857',\r\n",
    "                        'tileMatrix': '{z}',\r\n",
    "                        'tileRow': '{y}',\r\n",
    "                        'tileCol': '{x}'})\r\n",
    "\r\n",
    "    # OS Data Hub base path - https://api.os.uk\r\n",
    "    # OS Maps API WMTS end point path - /maps/raster/v1/wmts?\r\n",
    "    url = unquote(f'https://api.os.uk/maps/raster/v1/wmts?{params}')\r\n",
    "\r\n",
    "    tileLayer = {'url': url,\r\n",
    "               'min_zoom': 7,\r\n",
    "               'max_zoom': 20,\r\n",
    "               'attribution': f'Contains OS data &copy; Crown copyright and database rights {datetime.now().year}'}\r\n",
    "\r\n",
    "    return tileLayer"
   ],
   "outputs": [],
   "metadata": {}
  },
  {
   "cell_type": "code",
   "execution_count": null,
   "source": [
    "# Create custom ipyleaflet TileLayer for the OS Maps API WMTS resource\r\n",
    "os_maps_api_light = createOSMapsTileLayer('Light_3857')"
   ],
   "outputs": [],
   "metadata": {}
  },
  {
   "cell_type": "code",
   "execution_count": null,
   "source": [
    "# Create ipyleaflet Map\r\n",
    "m = Map(basemap=os_maps_api_light,\r\n",
    "        center=centreOfMap,\r\n",
    "        zoom=16)"
   ],
   "outputs": [],
   "metadata": {}
  },
  {
   "cell_type": "markdown",
   "source": [
    "...also, add our OS logo, as a widget."
   ],
   "metadata": {}
  },
  {
   "cell_type": "code",
   "execution_count": null,
   "source": [
    "# Add an image overlay, placing the OS logo in the bottom left corner.\r\n",
    "oslogo_url = 'https://raw.githubusercontent.com/OrdnanceSurvey/os-api-branding/master/img/os-logo-maps.png'\r\n",
    "oslogo_img = IPython.display.Image(oslogo_url, width = 300)\r\n",
    "oslogoWidget = Image(value=oslogo_img.data, format='png', width=100, height=30)\r\n",
    "widgetControl = WidgetControl(widget=oslogoWidget, position='bottomleft')\r\n",
    "m.add_control(widgetControl)"
   ],
   "outputs": [],
   "metadata": {}
  },
  {
   "cell_type": "markdown",
   "source": [
    "As this project will include some click-based interactivity that also triggers further API calls.  By adding a quick beep noise, we can reassure users that the click was actually triggered, should there be any delay in the API response.  Python beep calls are platform dependent.  The code, below, is for Windows, so an equivalent will be needed if you're working on other platforms."
   ],
   "metadata": {}
  },
  {
   "cell_type": "code",
   "execution_count": null,
   "source": [
    "# Play a beep noise (platform dependent)\r\n",
    "def make_beep(pitch, length):\r\n",
    "\r\n",
    "    thisPlatform = platform.system()\r\n",
    "\r\n",
    "    if thisPlatform == \"Windows\":       # Replace with OSX/Linux equivalents, if required.\r\n",
    "        winsound.Beep(pitch, length)\r\n",
    "\r\n",
    "    return\r\n"
   ],
   "outputs": [],
   "metadata": {}
  },
  {
   "cell_type": "markdown",
   "source": [
    "The process of requesting JSON from the OS APIs takes a similar form in each case.  So, in the example, we might as well make a function for that."
   ],
   "metadata": {}
  },
  {
   "cell_type": "code",
   "execution_count": null,
   "source": [
    "# A common API requestor \r\n",
    "def json_api_requestor(url, serviceName):\r\n",
    "\r\n",
    "    try:\r\n",
    "        response = requests.get(url)\r\n",
    "    except:\r\n",
    "        raise Exception(\"Unable to query and process \" + serviceName + \".\")\r\n",
    "\r\n",
    "    try:\r\n",
    "        jsonResult = response.json()\r\n",
    "    except:\r\n",
    "        raise Exception(\"Unable to convert the returned payload to JSON.\")\r\n",
    "\r\n",
    "    return jsonResult"
   ],
   "outputs": [],
   "metadata": {}
  },
  {
   "cell_type": "markdown",
   "source": [
    "To relate the area feature with an address, we'll use a UPRN as the common link.  We can obtain this from the OS Linked Identifiers API."
   ],
   "metadata": {}
  },
  {
   "cell_type": "code",
   "execution_count": null,
   "source": [
    "# For a given toid, find the associated UPRN, using the OS Linked Identifiers API\r\n",
    "def get_uprn(toid):\r\n",
    "\r\n",
    "     # Use the OS Linked Identifiers APi to obtain the UPRN for this feature (should be a building!)\r\n",
    "    linkapi_url = 'https://api.os.uk/search/links/v1/identifierTypes/TOID/' + toid + '?key=' + key\r\n",
    "\r\n",
    "    # Action the API request\r\n",
    "    linkdata = json_api_requestor(linkapi_url, \"OS Linked Identifiers API\")\r\n",
    "\r\n",
    "    # Now extract the UPRN from the returned JSON file ().  The Linked Identifier API returns a dictionary containing two primary\r\n",
    "    # parts - the 'linkededIdentifier', which confirms details of the provided input parameters, and the 'correlations', which is\r\n",
    "    # a list of records that, of course, correlate with those parameters.  For this exercise, we're only looking for associated \r\n",
    "    # UPRN records...and we only really need one for each toid that is supplied (which is likely all that will be returned).\r\n",
    "\r\n",
    "    uprn = \"Null\"\r\n",
    "    \r\n",
    "    for x in linkdata.get(\"correlations\"):\r\n",
    "\r\n",
    "         # Check that this correlation record pertains to a UPRN\r\n",
    "         if x.get(\"correlatedIdentifierType\") == \"UPRN\":\r\n",
    "             uprn = x.get(\"correlatedIdentifiers\")[0].get(\"identifier\")  # Another list, so we'll just take the first entry.\r\n",
    "             break\r\n",
    "\r\n",
    "    return uprn\r\n",
    "    "
   ],
   "outputs": [],
   "metadata": {}
  },
  {
   "cell_type": "markdown",
   "source": [
    "Once we've obtained a valid UPRN, we can use it to query the OS Places API, in this case for a postal address.  For this example, we'll just use the Royal Mail's Delivery Point as the source of the addresses, although using the local authority (LPI) alternatives would be a valid option here, too."
   ],
   "metadata": {}
  },
  {
   "cell_type": "code",
   "execution_count": null,
   "source": [
    "# For a given UPRN, get a postal address from the OS Places API\r\n",
    "def get_address_details(uprn):\r\n",
    "\r\n",
    "    # Define the OS Places API URL\r\n",
    "    base_osplaces_url = 'https://api.os.uk/search/places/v1/'\r\n",
    "    osplaces_path = f'uprn?uprn={uprn}'\r\n",
    "    placesURL = f'{base_osplaces_url}{osplaces_path}&format=json&dataset=DPA&output_srs=WGS84&key={key}'  # We'll just use the DPA data for this demo.\r\n",
    "\r\n",
    "    # Action the API request\r\n",
    "    placesData = json_api_requestor(placesURL, \"OS Places API\")\r\n",
    "\r\n",
    "    # Extract the address details we're intersted in\r\n",
    "    try:\r\n",
    "        postalAddress = placesData.get(\"results\")[0].get(\"DPA\").get(\"ADDRESS\")\r\n",
    "    except:\r\n",
    "        postalAddress = 'No Delivery Point address found.' # In case this feature has no DPA address\r\n",
    "\r\n",
    "\r\n",
    "    return postalAddress"
   ],
   "outputs": [],
   "metadata": {}
  },
  {
   "cell_type": "markdown",
   "source": [
    "We want users to be able to click upon the map features, to see their postal address.  These features will all be present within an ipyleaflet GeoJSON layer.  That layer, by default, has an on_click() method, which we'll configure to use with the following function.  The three arguments, received by the function, are outlined in the comment below.  To understand their content, it's worth writing their content into a file, for further reference."
   ],
   "metadata": {}
  },
  {
   "cell_type": "code",
   "execution_count": null,
   "source": [
    "# Show details upon feature click\r\n",
    "def click_handler(**kwargs):\r\n",
    "\r\n",
    "    # Three arguments should be returned for each WFS feature clicked.  These are\r\n",
    "    #\r\n",
    "    #   'event'       -  returns just a \"click\" text string\r\n",
    "    #   'feature'     -  returns a complex dictionary object, including both the geometry and the attribution\r\n",
    "    #   'properties'  -  returns just the attribution in a simpler dictionary\r\n",
    "\r\n",
    "    # Uncomment this block to write the on_click() args to a file, if you need to examine them.\r\n",
    "    # f = open(\"Test_seeTheArgs.txt\", \"a\")\r\n",
    "    # for key, value in kwargs.items():\r\n",
    "    #     f.write(\"%s == %s\" %(key, value))\r\n",
    "    # f.close()\r\n",
    "\r\n",
    "    # Beep!  Give extra feedback on feature-click.\r\n",
    "    make_beep(440, 200) \r\n",
    "\r\n",
    "    attribution = kwargs.get(\"properties\")\r\n",
    "    toid = attribution.get(\"TOID\")\r\n",
    "\r\n",
    "    # Get a point location from the geometry.  We'll use this to position the Popup feature that will hold the address details.\r\n",
    "    thisFeature = kwargs.get('feature')\r\n",
    "    thisGeom = thisFeature.get('geometry')\r\n",
    "    thisCoordsList = thisGeom.get('coordinates')\r\n",
    "    firstVertexR = thisCoordsList[0][0]\r\n",
    "    firstVertex = (firstVertexR[1],firstVertexR[0])\r\n",
    "\r\n",
    "    # Obtain the UPRN for this toid.\r\n",
    "    thisUPRN = get_uprn(toid)\r\n",
    "\r\n",
    "    # Get address details for this UPRN\r\n",
    "    if thisUPRN != \"Null\":\r\n",
    "        thisAddress = get_address_details(thisUPRN)\r\n",
    "    else:\r\n",
    "        thisAddress = \"No UPRN found.\"\r\n",
    "\r\n",
    "    # Define the pop-up message\r\n",
    "    message = HTML()\r\n",
    "    message.value = thisAddress\r\n",
    "\r\n",
    "    # Add a pop-up\r\n",
    "    popup = Popup(\r\n",
    "        location=firstVertex,\r\n",
    "        child=message,\r\n",
    "        close_button=False,\r\n",
    "        auto_close=False,\r\n",
    "        close_on_escape_key=False\r\n",
    "    )\r\n",
    "\r\n",
    "    m.add_layer(popup)\r\n"
   ],
   "outputs": [],
   "metadata": {}
  },
  {
   "cell_type": "markdown",
   "source": [
    "A little callback for assigning each of the building polygons a random colour."
   ],
   "metadata": {}
  },
  {
   "cell_type": "code",
   "execution_count": null,
   "source": [
    "# Used for the GeoJSON style callback\r\n",
    "def random_color(feature):\r\n",
    "    return {\r\n",
    "        'color': 'black',\r\n",
    "        'fillColor': random.choice(['red', 'yellow', 'green', 'orange', 'pink', 'blue']),\r\n",
    "    }"
   ],
   "outputs": [],
   "metadata": {}
  },
  {
   "cell_type": "markdown",
   "source": [
    "This is where we query the OS Features API for building polygons and add them into a map layer, which is then enabled for interactive clicking.  In this version, we'll use the original OS-PAW package, which makes it much easier to work with the OS Features API within Python."
   ],
   "metadata": {}
  },
  {
   "cell_type": "code",
   "execution_count": null,
   "source": [
    "# Create WFS API instance \r\n",
    "wfs_api = WFS_API(api_key=key)\r\n",
    "\r\n",
    "# Undertake the query itself.\r\n",
    "TopoAreaData = wfs_api.get_all_features_within_bbox(type_name=\"Topography_TopographicArea\",\r\n",
    "                                            bbox=\"53.442538,-1.9528413, 53.444864,-1.9462860\",\r\n",
    "                                            srs='EPSG:4326',\r\n",
    "                                            allow_premium=True,\r\n",
    "                                            max_feature_count=2000\r\n",
    "                                           )\r\n",
    "\r\n",
    "# OS-PAW doesn't support filtering, but we can easily do that in a geopandas GeoDataFrame\r\n",
    "gdf = gpd.GeoDataFrame.from_features(TopoAreaData, crs=TopoAreaData['crs'])\r\n",
    "\r\n",
    "buildings_gdf = gdf[gdf['Theme'].str.contains('Buildings', na=False)]\r\n"
   ],
   "outputs": [],
   "metadata": {}
  },
  {
   "cell_type": "code",
   "execution_count": null,
   "source": [
    "# Convert the filtered GeoDataFrame back to a GeoJSON dictionary\r\n",
    "results_geojson = buildings_gdf.to_json(na='drop')\r\n",
    "results_dict = eval(results_geojson)\r\n",
    "\r\n",
    "# Create an ipyleaflet GeoJSON object from the building features...\r\n",
    "geo_json = GeoJSON(\r\n",
    "    data=results_dict,  # this needs to be dictionary\r\n",
    "    style={'opacity': 1, 'dashArray': '0', 'fillOpacity': 0.1, 'weight': 1},\r\n",
    "    hover_style={'color': 'white', 'dashArray': '0', 'fillOpacity': 0.5},\r\n",
    "    style_callback=random_color\r\n",
    ")\r\n",
    "\r\n",
    "# ...and add the layer to our map.\r\n",
    "m.add_layer(geo_json)\r\n",
    "\r\n",
    "# Also, enable the GeoJSON layer's on_click() method, so we can show each feature's address, should it have one.\r\n",
    "geo_json.on_click(click_handler)\r\n"
   ],
   "outputs": [],
   "metadata": {}
  },
  {
   "cell_type": "code",
   "execution_count": null,
   "source": [
    "# Display the map\r\n",
    "m"
   ],
   "outputs": [],
   "metadata": {}
  }
 ]
}