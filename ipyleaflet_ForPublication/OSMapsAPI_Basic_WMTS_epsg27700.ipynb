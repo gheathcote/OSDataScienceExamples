{
 "cells": [
  {
   "cell_type": "markdown",
   "source": [
    "## Ordnance Survey Data Hub Tutorials - Example Applications\r\n",
    "\r\n",
    "# Using the OS Maps API with ipyleaflet - Basic (WMTS / ESPG:27700)\r\n",
    "\r\n",
    "\r\n",
    "### NOTE : Although the ESPG:27700 can be made to work in ipyleaflet, it clearly doesn't function as intended.  ipyleaflet still expects the standard zoom levels and WGS84 location coordinates, so things get unnecessarily messy very quickly.  Also, it seems to work only with the EPSG:3857 styles only, which again doesn't really make a lot of sense.\r\n",
    "\r\n",
    "This is a simple Python/Jupyter Notebook application, demonstrating how the OS Maps API can be used to display background mapping within an interactive ipyleaflet (https://ipyleaflet.readthedocs.io/en/latest/) map.  This script demonstrates the WMTS and ESPG:27700 (British National Grid) options.  See accompanying scripts for the other three variants.\r\n",
    "\r\n",
    "The OS Maps API, is one of the many services available from the OS Data Hub. "
   ],
   "metadata": {}
  },
  {
   "cell_type": "code",
   "execution_count": 154,
   "source": [
    "from datetime import datetime\r\n",
    "from ipyleaflet import Map, WidgetControl\r\n",
    "from urllib.parse import unquote, urlencode\r\n",
    "from ipywidgets import Image\r\n",
    "import IPython"
   ],
   "outputs": [],
   "metadata": {}
  },
  {
   "cell_type": "code",
   "execution_count": 155,
   "source": [
    "# OS Data Hub project API key\r\n",
    "key = 'YOUR API KEY HERE'"
   ],
   "outputs": [],
   "metadata": {}
  },
  {
   "cell_type": "code",
   "execution_count": 156,
   "source": [
    "# Function to create ipyleaflet tile layers\r\n",
    "def createTileLayer(layertype):\r\n",
    "\r\n",
    "    params = urlencode({'key': key,\r\n",
    "                        'service': 'WMTS',\r\n",
    "                        'request': 'GetTile',\r\n",
    "                        'version': '2.0.0',\r\n",
    "                        'height': 256,\r\n",
    "                        'width': 256,\r\n",
    "                        'outputFormat': 'image/png',\r\n",
    "                        'style': 'default',\r\n",
    "                        'layer': layertype,\r\n",
    "                        'tileMatrixSet': 'EPSG:27700',\r\n",
    "                        'tileMatrix': '{z}',\r\n",
    "                        'tileRow': '{y}',\r\n",
    "                        'tileCol': '{x}'})\r\n",
    "\r\n",
    "    # OS Data Hub base path - https://api.os.uk\r\n",
    "    # OS Maps API WMTS end point path - /maps/raster/v1/wmts?\r\n",
    "    url = unquote(f'https://api.os.uk/maps/raster/v1/wmts?{params}')\r\n",
    "\r\n",
    "    tileLayer = {'url': url,\r\n",
    "               'min_zoom': 7,\r\n",
    "               'max_zoom': 20,\r\n",
    "               'attribution': f'Contains OS data &copy; Crown copyright and database rights {datetime.now().year}'}\r\n",
    "\r\n",
    "    return tileLayer"
   ],
   "outputs": [],
   "metadata": {}
  },
  {
   "cell_type": "code",
   "execution_count": 157,
   "source": [
    "# Create custom ipyleaflet TileLayers for the OS Maps API WMTS resource\r\n",
    "os_maps_api_light = createTileLayer('Light_3857')"
   ],
   "outputs": [],
   "metadata": {}
  },
  {
   "cell_type": "code",
   "execution_count": 158,
   "source": [
    "# Create ipyleaflet Map\r\n",
    "centreOfMap = [51.507, -0.105]  # Central London\r\n",
    "m = Map(basemap=os_maps_api_light,\r\n",
    "        center=centreOfMap,\r\n",
    "        zoom=15)  # Initial zoom level "
   ],
   "outputs": [],
   "metadata": {}
  },
  {
   "cell_type": "code",
   "execution_count": 159,
   "source": [
    "# Add an image overlay, placing the OS logo in the bottom left corner.\r\n",
    "oslogo_url = 'https://raw.githubusercontent.com/OrdnanceSurvey/os-api-branding/master/img/os-logo-maps.png'\r\n",
    "oslogo_img = IPython.display.Image(oslogo_url, width = 300)\r\n",
    "oslogoWidget = Image(value=oslogo_img.data, format='png', width=100, height=30)\r\n",
    "widgetControl = WidgetControl(widget=oslogoWidget, position='bottomleft')\r\n",
    "m.add_control(widgetControl)"
   ],
   "outputs": [],
   "metadata": {}
  },
  {
   "cell_type": "code",
   "execution_count": 160,
   "source": [
    "m"
   ],
   "outputs": [
    {
     "output_type": "display_data",
     "data": {
      "application/vnd.jupyter.widget-view+json": {
       "version_major": 2,
       "version_minor": 0,
       "model_id": "ea85f8173d954907933791d74001acae"
      },
      "text/plain": [
       "Map(center=[51.507, -0.105], controls=(ZoomControl(options=['position', 'zoom_in_text', 'zoom_in_title', 'zoom…"
      ]
     },
     "metadata": {}
    }
   ],
   "metadata": {}
  }
 ],
 "metadata": {
  "orig_nbformat": 4,
  "language_info": {
   "name": "python",
   "version": "3.9.0",
   "mimetype": "text/x-python",
   "codemirror_mode": {
    "name": "ipython",
    "version": 3
   },
   "pygments_lexer": "ipython3",
   "nbconvert_exporter": "python",
   "file_extension": ".py"
  },
  "kernelspec": {
   "name": "python3",
   "display_name": "Python 3.9.0 64-bit"
  },
  "interpreter": {
   "hash": "ac59ebe37160ed0dfa835113d9b8498d9f09ceb179beaac4002f036b9467c963"
  }
 },
 "nbformat": 4,
 "nbformat_minor": 2
}